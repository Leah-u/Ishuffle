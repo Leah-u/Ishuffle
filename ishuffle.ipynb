{
  "nbformat": 4,
  "nbformat_minor": 0,
  "metadata": {
    "colab": {
      "name": "ishuffle.ipynb",
      "provenance": [],
      "collapsed_sections": [],
      "toc_visible": true,
      "machine_shape": "hm"
    },
    "kernelspec": {
      "name": "python3",
      "display_name": "Python 3"
    }
  },
  "cells": [
    {
      "cell_type": "markdown",
      "metadata": {
        "id": "vFB4KiB4PE8j",
        "colab_type": "text"
      },
      "source": [
        "# **Ishuffle Music Recommendation system**\n",
        "\n",
        "In this project we would be implementing a music recommendation system. "
      ]
    },
    {
      "cell_type": "markdown",
      "metadata": {
        "id": "ZRygko4WEcKX",
        "colab_type": "text"
      },
      "source": [
        "**Import Packages**"
      ]
    },
    {
      "cell_type": "code",
      "metadata": {
        "id": "kNVyLfsVMTIm",
        "colab_type": "code",
        "colab": {}
      },
      "source": [
        "# Core data manipulation packages\n",
        "import pandas as pd\n",
        "import numpy as np\n",
        "\n",
        "# For our EDA charts\n",
        "import matplotlib.pyplot as plt\n",
        "import matplotlib.ticker as ticker\n",
        "import seaborn as sns\n",
        "\n",
        "# For creating sparse matrix\n",
        "from scipy.sparse import csr_matrix \n",
        "from scipy.sparse import coo_matrix\n",
        "\n",
        "# use K-Nearest Neighbors to find cosine distance amongst songs\n",
        "from sklearn.neighbors import NearestNeighbors\n",
        "from sklearn.model_selection import train_test_split\n",
        "\n",
        "# use decomposition in our matrix factorization\n",
        "import sklearn\n",
        "from sklearn.decomposition import TruncatedSVD\n",
        "\n",
        "# set seed for reproducibility of random number initializations\n",
        "seed = np.random.RandomState(seed=42)\n"
      ],
      "execution_count": 0,
      "outputs": []
    },
    {
      "cell_type": "markdown",
      "metadata": {
        "id": "9EGHanytEnA0",
        "colab_type": "text"
      },
      "source": [
        "**Load Data**\n",
        "\n",
        "In this section we read data from all our files\n"
      ]
    },
    {
      "cell_type": "code",
      "metadata": {
        "id": "22xV4bdrJSY7",
        "colab_type": "code",
        "colab": {}
      },
      "source": [
        "#load our files\n",
        "#training files\n",
        "triplets_file = 'https://static.turi.com/datasets/millionsong/10000.txt'\n",
        "songs_metadata_file = 'https://static.turi.com/datasets/millionsong/song_data.csv'\n",
        "\n",
        "#test file\n",
        "test_df = pd.read_csv('test_data.csv')\n",
        "\n",
        "#create first dataframe\n",
        "song_df_1 = pd.read_table(triplets_file,header=None)\n",
        "song_df_1.columns = ['user_id', 'song_id', 'listen_count']\n",
        "\n",
        "#Read song file and create second Dataframe\n",
        "song_df_2 =  pd.read_csv(songs_metadata_file)\n",
        "\n",
        "#Merge the two dataframes above to create input dataframe for recommender systems\n",
        "train_df = pd.merge(song_df_1, song_df_2.drop_duplicates(['song_id']), on=\"song_id\", how=\"left\")\n"
      ],
      "execution_count": 0,
      "outputs": []
    },
    {
      "cell_type": "markdown",
      "metadata": {
        "id": "6_lMhtDbEr0z",
        "colab_type": "text"
      },
      "source": [
        "**Feature Engineering**"
      ]
    },
    {
      "cell_type": "code",
      "metadata": {
        "id": "3Q4W-41-L_Az",
        "colab_type": "code",
        "colab": {}
      },
      "source": [
        "#Merge song title and artist_name columns to make a new feature 'song' which is what we will be recommending\n",
        "train_df ['song'] = train_df ['title'].map(str) + \" - \" + train_df['artist_name']"
      ],
      "execution_count": 0,
      "outputs": []
    },
    {
      "cell_type": "markdown",
      "metadata": {
        "id": "kT6Xm8Y94GMI",
        "colab_type": "text"
      },
      "source": [
        "Remove Duplicates from our Dataframe"
      ]
    },
    {
      "cell_type": "code",
      "metadata": {
        "id": "G901lCYg4Fp8",
        "colab_type": "code",
        "colab": {}
      },
      "source": [
        "if not train_df[train_df.duplicated(['user_id', 'song'])].empty:\n",
        "    initial_rows = train_df.shape[0]\n",
        "    print('Initial dataframe shape {0}'.format(train_df.shape))\n",
        "    train_df = train_df.drop_duplicates(['user_id', 'song'])\n",
        "    current_rows = train_df.shape[0]\n",
        "    print('New dataframe shape {0}'.format(train_df.shape))\n",
        "    print('Removed {0} rows'.format(initial_rows - current_rows))"
      ],
      "execution_count": 0,
      "outputs": []
    },
    {
      "cell_type": "markdown",
      "metadata": {
        "id": "ljZa-5_0Fkde",
        "colab_type": "text"
      },
      "source": [
        "**Exploratory Data Analysis(EDA)**"
      ]
    },
    {
      "cell_type": "markdown",
      "metadata": {
        "id": "Qu3lByagNgC4",
        "colab_type": "text"
      },
      "source": [
        "**Showing the most popular songs in the dataset**"
      ]
    },
    {
      "cell_type": "code",
      "metadata": {
        "id": "B0udjijHNZLR",
        "colab_type": "code",
        "colab": {}
      },
      "source": [
        "print(\"# Top Songs with most total plays:\")\n",
        "#for all user that have played a song and calculate the total sum of the listen count\n",
        "song_rank = (train_df.groupby(['song']).agg({'user_id':'count','listen_count':'sum'}).rename(columns={\"user_id\":'totalUniqueUsers',\"listen_count\":\"userSongPlays\"}).sort_values(['userSongPlays', 'song'],ascending=False))\n",
        "print(song_rank.head(20))"
      ],
      "execution_count": 0,
      "outputs": []
    },
    {
      "cell_type": "markdown",
      "metadata": {
        "id": "dqx4gCjVFAfq",
        "colab_type": "text"
      },
      "source": [
        "**Visualize Data**\n",
        "\n",
        "We use a barchart to depict the top 20 most listened to songs"
      ]
    },
    {
      "cell_type": "code",
      "metadata": {
        "id": "xnF6SzUUFFBL",
        "colab_type": "code",
        "colab": {}
      },
      "source": [
        "# our standard bar chart in a function below\n",
        "def bar_chart_int(x,y,x_label,y_label,title,caption,total_val):\n",
        "    fig, ax = plt.subplots()\n",
        "    fig.set_size_inches(16, 5)\n",
        "    ax = sns.barplot(x[:20], y[:20], palette=\"PuRd\")\n",
        "    ax.set_xlabel(x_label,fontweight='bold')\n",
        "    ax.set_ylabel(y_label,fontweight='bold')\n",
        "    ax.set_title(title,fontweight='bold')\n",
        "    ax.get_yaxis().set_major_formatter(ticker.FuncFormatter(lambda x, p: '{:,}'.format(int(x))))\n",
        "\n",
        "    # our bar label placement\n",
        "    for p in ax.patches:\n",
        "        height = p.get_height()\n",
        "        pct = 100*(height/total_val)\n",
        "        ax.text(p.get_x()+p.get_width()/2.,\n",
        "                height + 3,\n",
        "                '{:1.1f}%'.format(pct),\n",
        "                ha=\"center\",verticalalignment='bottom',color='black') \n",
        "\n",
        "    # our caption statement\n",
        "    ax.text(19, max(y[:20])*0.95, caption, style='italic',fontsize=12,horizontalalignment='right')\n",
        "\n",
        "    plt.xticks(rotation=90)\n",
        "    plt.show()"
      ],
      "execution_count": 0,
      "outputs": []
    },
    {
      "cell_type": "code",
      "metadata": {
        "id": "-5zqBnRzzBeT",
        "colab_type": "code",
        "colab": {}
      },
      "source": [
        "#create a bar chart showing the ranking of top 20 most played songs\n",
        "c1 = song_rank\n",
        "x = c1.index\n",
        "y = c1.userSongPlays\n",
        "x_label = 'Song Name'\n",
        "y_label = 'Listen Count'\n",
        "title = 'Total plays per Song'\n",
        "caption = 'Percentages are of song plays'\n",
        "total_val = c1.userSongPlays.sum()\n",
        "bar_chart_int(x,y,x_label,y_label,title,caption,total_val)\n"
      ],
      "execution_count": 0,
      "outputs": []
    },
    {
      "cell_type": "markdown",
      "metadata": {
        "id": "TSuRI_Eq5vE4",
        "colab_type": "text"
      },
      "source": [
        "Function to get all songs listened to by a user in the dataset"
      ]
    },
    {
      "cell_type": "code",
      "metadata": {
        "id": "oTptp7rB5qOI",
        "colab_type": "code",
        "colab": {}
      },
      "source": [
        "def get_user_songs(user):\n",
        "    user_data = train_df[train_df['user_id'] == user]\n",
        "    user_items = list(user_data['song'].unique())\n",
        "    return user_items\n",
        "#display songs a randomly selected user has listened to in the dataset\n",
        "index = seed.choice(train_df.shape[0])\n",
        "uid = train_df.iloc[index]['user_id']\n",
        "print(\"User {} has listened to these songs:\".format(uid))\n",
        "for i,song in enumerate(get_user_songs(uid)):\n",
        "  print(\"{}. {}\".format(i,song))"
      ],
      "execution_count": 0,
      "outputs": []
    },
    {
      "cell_type": "code",
      "metadata": {
        "id": "1-WVfhkuisNO",
        "colab_type": "code",
        "colab": {}
      },
      "source": [
        "def get_actual(user):\n",
        "    user_data = test_df[test_df['user_id'] == user]\n",
        "    user_items = list(user_data['songs'].unique())\n",
        "    return user_items"
      ],
      "execution_count": 0,
      "outputs": []
    },
    {
      "cell_type": "markdown",
      "metadata": {
        "id": "8G3ol9Lf5Egw",
        "colab_type": "text"
      },
      "source": [
        "## **Model Creation**"
      ]
    },
    {
      "cell_type": "markdown",
      "metadata": {
        "id": "O5jDxdTY7Ihz",
        "colab_type": "text"
      },
      "source": [
        "**Model 1: Popularity based** (Baseline model)\n",
        "\n",
        "Our first model is the Popularity-based model, this model recommends music to users based on the most listened to songs in the dataset."
      ]
    },
    {
      "cell_type": "markdown",
      "metadata": {
        "id": "tI_zM7399ZCX",
        "colab_type": "text"
      },
      "source": [
        " **Popularity-based recommender model**"
      ]
    },
    {
      "cell_type": "code",
      "metadata": {
        "id": "-jbbcGjJ7Pvb",
        "colab_type": "code",
        "colab": {}
      },
      "source": [
        "#Use the popularity based recommender system model to make recommendations\n",
        "def popularity_recommend(user_id):    \n",
        "      popularity_rank = (train_df.groupby(['song']).agg({'user_id':'count','listen_count':'sum'}).rename(columns={\"user_id\":'popularity_count',\"listen_count\":\"userSongPlays\"}).sort_values(['popularity_count', 'song'],ascending=False))\n",
        "      popularity_rank['Rank'] = popularity_rank['popularity_count'].rank(ascending=0, method='first')      \n",
        "      #Get the top 10 recommendations\n",
        "      popularity_recommendations = popularity_rank.head(10)\n",
        "\n",
        "      user_recommendations = popularity_recommendations\n",
        "      \n",
        "      #Add user_id column for which the recommendations are being generated\n",
        "      user_recommendations['user_id'] = user_id\n",
        "      #Bring user_id column to the front\n",
        "      cols = user_recommendations.columns.tolist()\n",
        "      cols = cols[-1:] + cols[:-1]\n",
        "      user_recommendations = user_recommendations[cols]\n",
        "      \n",
        "      return user_recommendations"
      ],
      "execution_count": 0,
      "outputs": []
    },
    {
      "cell_type": "markdown",
      "metadata": {
        "id": "naL2NC1A_AGJ",
        "colab_type": "text"
      },
      "source": [
        "Use the popularity model to make some predictions"
      ]
    },
    {
      "cell_type": "code",
      "metadata": {
        "id": "rHwuHON1_BBX",
        "colab_type": "code",
        "colab": {}
      },
      "source": [
        "print(\"------------------------------------------------------------------\")\n",
        "print(\"Recommendation based on the most popular songs\")\n",
        "print(\"------------------------------------------------------------------\")\n",
        "popularity_recommend(\"4bd88bfb25263a75bbdd467e74018f4ae570e5df\")"
      ],
      "execution_count": 0,
      "outputs": []
    },
    {
      "cell_type": "markdown",
      "metadata": {
        "id": "JcLl37JIS1M-",
        "colab_type": "text"
      },
      "source": [
        "**Model 2: K-Nearest Neighbors**\n",
        "\n",
        "As our first iteration of a basic collaborative recommender, we will build a sparse matrix comparing song plays (rows) by user (columns). This data will then be passed through a latent mapping algorithm, K-nearest neighbors, to determine cosine similarity amongst the user/song relationships. This will help us determine which songs are most similar as in shortest distance apart within this latent mapping. "
      ]
    },
    {
      "cell_type": "markdown",
      "metadata": {
        "id": "pJMsgv5UTaR7",
        "colab_type": "text"
      },
      "source": [
        "**Prepare Sparse Matrix**\n",
        "\n",
        "In this section, we fit data into a sparse matrix of songs (row) vs. user (column). This matrix captures all relationships between songs and users with number of listens in each respective cell."
      ]
    },
    {
      "cell_type": "code",
      "metadata": {
        "id": "mO0Ld2_9TH2P",
        "colab_type": "code",
        "colab": {}
      },
      "source": [
        "# function to fit dataframe into a sparse matrix of song name (row) vs user (column)\n",
        "# in terms of listen count\n",
        "def data_to_sparse(data,index,columns,values):\n",
        "    pivot = data.pivot(index=index,columns=columns,values=values).fillna(0)\n",
        "    sparse = csr_matrix(pivot.values)\n",
        "    print(sparse.shape)\n",
        "    return pivot,sparse"
      ],
      "execution_count": 0,
      "outputs": []
    },
    {
      "cell_type": "markdown",
      "metadata": {
        "id": "bjQ3scss6Gg1",
        "colab_type": "text"
      },
      "source": [
        "Use K Nearest Neighbors to determine cosine distance amongst songs"
      ]
    },
    {
      "cell_type": "code",
      "metadata": {
        "id": "9i1W3LUF6Ha0",
        "colab_type": "code",
        "colab": {}
      },
      "source": [
        "def fit_knn(sparse):\n",
        "    knn = NearestNeighbors(metric='cosine')\n",
        "    knn.fit(sparse)\n",
        "    print(knn)\n",
        "    return knn"
      ],
      "execution_count": 0,
      "outputs": []
    },
    {
      "cell_type": "markdown",
      "metadata": {
        "id": "2_JwEqJl6vD6",
        "colab_type": "text"
      },
      "source": [
        "Create Sparse Matrix using our DataFrame"
      ]
    },
    {
      "cell_type": "code",
      "metadata": {
        "id": "KPIUam79T_xC",
        "colab_type": "code",
        "outputId": "bfe6d94e-ceed-45d0-d931-2c52a94de1f8",
        "colab": {
          "base_uri": "https://localhost:8080/",
          "height": 34
        }
      },
      "source": [
        "pivot_df,sparse_df = data_to_sparse(train_df,index='song',columns='user_id',values='listen_count')\n"
      ],
      "execution_count": 0,
      "outputs": [
        {
          "output_type": "stream",
          "text": [
            "(9953, 76353)\n"
          ],
          "name": "stdout"
        }
      ]
    },
    {
      "cell_type": "code",
      "metadata": {
        "id": "lUaw90rQiYwR",
        "colab_type": "code",
        "colab": {}
      },
      "source": [
        "pivot_df.head(10)"
      ],
      "execution_count": 0,
      "outputs": []
    },
    {
      "cell_type": "markdown",
      "metadata": {
        "id": "anIfQmSiUL7h",
        "colab_type": "text"
      },
      "source": [
        "Fit our sparse matrix to our knn model"
      ]
    },
    {
      "cell_type": "code",
      "metadata": {
        "id": "LsmCDuJOoB-2",
        "colab_type": "code",
        "colab": {}
      },
      "source": [
        "knn = fit_knn(sparse_df)"
      ],
      "execution_count": 0,
      "outputs": []
    },
    {
      "cell_type": "markdown",
      "metadata": {
        "id": "DEbC_vDSol6j",
        "colab_type": "text"
      },
      "source": [
        "In this function we make our recommendations based on our knn model, we lookup song similarities based on index number within the sparse matrix, with cosine distance in parentheses."
      ]
    },
    {
      "cell_type": "code",
      "metadata": {
        "id": "zzFKDVGXonOJ",
        "colab_type": "code",
        "colab": {}
      },
      "source": [
        "def knn_recommend(user_id,data,song,model,k):\n",
        "    distances, indices = (model.kneighbors(data.loc[song].values.reshape(1,-1),n_neighbors=k+1))\n",
        "    predicted =[]\n",
        "    for i in range(0,len(distances.flatten())):\n",
        "        if i == 0:\n",
        "            print((\"KNN Song Recommendations for user {} cause they like '{}':\\n\".\n",
        "                  format(user_id,song)))\n",
        "        else:\n",
        "            print(('{}: {} ({:.3f})'.format(i,data.index[indices.flatten()[i]],distances.flatten()[i])))\n",
        "            predicted.append(data.index[indices.flatten()[i]])           \n",
        "    return predicted\n"
      ],
      "execution_count": 0,
      "outputs": []
    },
    {
      "cell_type": "markdown",
      "metadata": {
        "id": "pir2U4RqQdjg",
        "colab_type": "text"
      },
      "source": [
        "**Model 3 Matrix Factorization**\n",
        "\n",
        "Similar with kNN, we convert our training data into a 2D matrix (called a utility matrix here) and fill the missing values with zeros. Here our row is user_id and our column is song"
      ]
    },
    {
      "cell_type": "code",
      "metadata": {
        "id": "mCCjw_yAw1dB",
        "colab_type": "code",
        "colab": {}
      },
      "source": [
        "pivot_df2 = train_df.pivot(index = 'user_id', columns = 'song', values = 'listen_count').fillna(0)\n",
        "pivot_df2.head()"
      ],
      "execution_count": 0,
      "outputs": []
    },
    {
      "cell_type": "markdown",
      "metadata": {
        "id": "9tPKdYmVyQkF",
        "colab_type": "text"
      },
      "source": [
        "We then transpose this utility matrix, so that the songs become rows and user_id become columns. "
      ]
    },
    {
      "cell_type": "code",
      "metadata": {
        "id": "Du0bs_8syPvs",
        "colab_type": "code",
        "outputId": "a6cd6aec-b87e-408c-decf-ac27914f9b42",
        "colab": {
          "base_uri": "https://localhost:8080/",
          "height": 34
        }
      },
      "source": [
        "X = pivot_df2.values.T\n",
        "X.shape"
      ],
      "execution_count": 0,
      "outputs": [
        {
          "output_type": "execute_result",
          "data": {
            "text/plain": [
              "(9953, 76353)"
            ]
          },
          "metadata": {
            "tags": []
          },
          "execution_count": 19
        }
      ]
    },
    {
      "cell_type": "markdown",
      "metadata": {
        "id": "3uRXA_e2Vvah",
        "colab_type": "text"
      },
      "source": [
        "After using TruncatedSVD to decompose it, we fit it into the model for dimensionality reduction. This compression happened on the dataframe’s columns since we must preserve the song names. We choose n_components = 12 for just 12 latent variables, and you can see, our data’s dimensions have been reduced significantly from 9953 X 76353 to 9953 X 12"
      ]
    },
    {
      "cell_type": "code",
      "metadata": {
        "id": "VGsFK70Eycin",
        "colab_type": "code",
        "outputId": "d81f214a-9d50-482d-da76-a9f423095775",
        "colab": {
          "base_uri": "https://localhost:8080/",
          "height": 34
        }
      },
      "source": [
        "SVD = TruncatedSVD(n_components=12, random_state=17)\n",
        "matrix = SVD.fit_transform(X)\n",
        "matrix.shape"
      ],
      "execution_count": 0,
      "outputs": [
        {
          "output_type": "execute_result",
          "data": {
            "text/plain": [
              "(9953, 12)"
            ]
          },
          "metadata": {
            "tags": []
          },
          "execution_count": 20
        }
      ]
    },
    {
      "cell_type": "markdown",
      "metadata": {
        "id": "OSXSmArpWQiL",
        "colab_type": "text"
      },
      "source": [
        "We calculate the Pearson’s R correlation coefficient for every song pair in our final matrix. "
      ]
    },
    {
      "cell_type": "code",
      "metadata": {
        "id": "7kNF1wVyy3a3",
        "colab_type": "code",
        "outputId": "32d8bf66-432f-4d42-b821-99269e88221a",
        "colab": {
          "base_uri": "https://localhost:8080/",
          "height": 34
        }
      },
      "source": [
        "correlation = np.corrcoef(matrix)\n",
        "correlation.shape"
      ],
      "execution_count": 0,
      "outputs": [
        {
          "output_type": "execute_result",
          "data": {
            "text/plain": [
              "(9953, 9953)"
            ]
          },
          "metadata": {
            "tags": []
          },
          "execution_count": 21
        }
      ]
    },
    {
      "cell_type": "markdown",
      "metadata": {
        "id": "Cs0B4-FEW2Sd",
        "colab_type": "text"
      },
      "source": [
        "We recommend songs using this function. Given a song we find all songs that have high correlation coefficients (>0.9884)  with it and return them."
      ]
    },
    {
      "cell_type": "code",
      "metadata": {
        "id": "OFmDbKpWy9yk",
        "colab_type": "code",
        "colab": {}
      },
      "source": [
        "def matrix_factorization_recommend(user_id, song):\n",
        "  songs = pivot_df2.columns\n",
        "  song_list = list(songs)\n",
        "  song_index = song_list.index(song)\n",
        "  correlation_song_index  = correlation[song_index]\n",
        "  print(\"\\nMatrix Factorization recommendation for user {} because they like '{}':\".format(user_id,song))\n",
        "  for i, song in enumerate(list(songs[(correlation_song_index > 0.989)])):\n",
        "      print(\"{}. {}\".format(i,song))\n",
        "  return list(songs[(correlation_song_index > 0.989)])"
      ],
      "execution_count": 0,
      "outputs": []
    },
    {
      "cell_type": "markdown",
      "metadata": {
        "id": "9USz6Qc0IRM8",
        "colab_type": "text"
      },
      "source": [
        "**Model Evaluation**"
      ]
    },
    {
      "cell_type": "markdown",
      "metadata": {
        "id": "a_aW2_q28s5r",
        "colab_type": "text"
      },
      "source": [
        "Make predictions using our two models, calculate and compare the precision and recall of the two models"
      ]
    },
    {
      "cell_type": "code",
      "metadata": {
        "id": "NZcN5UdzzAq4",
        "colab_type": "code",
        "outputId": "0d9b2a8d-e825-4924-b469-a0728a14d145",
        "colab": {
          "base_uri": "https://localhost:8080/",
          "height": 461
        }
      },
      "source": [
        "user_id =\"4bd88bfb25263a75bbdd467e74018f4ae570e5df\"\n",
        "user_songs= get_user_songs(user_id)\n",
        "actual_songs= get_actual(user_id)\n",
        "#knn recommended\n",
        "knn_predicted = knn_recommend(user_id, pivot_df,user_songs[5],knn,10)\n",
        "#Matrix factorization recommended\n",
        "matrix_fac_predicted = matrix_factorization_recommend(user_id, user_songs[5])\n",
        "\n"
      ],
      "execution_count": 0,
      "outputs": [
        {
          "output_type": "stream",
          "text": [
            "KNN Song Recommendations for user 4bd88bfb25263a75bbdd467e74018f4ae570e5df cause they like 'The Real Slim Shady - Eminem':\n",
            "\n",
            "1: My Name Is - Eminem (0.633)\n",
            "2: Crack A Bottle - Eminem / Dr. Dre / 50 Cent (0.705)\n",
            "3: Superman - Eminem / Dina Rae (0.777)\n",
            "4: Mockingbird - Eminem (0.782)\n",
            "5: Just Lose It - Eminem (0.793)\n",
            "6: Without Me - Eminem (0.793)\n",
            "7: Hailie's Song - Eminem (0.825)\n",
            "8: My Dad's Gone Crazy - Eminem / Hailie Jade (0.826)\n",
            "9: Still Don't Give A Fuck - Eminem (0.830)\n",
            "10: Terre Promise - O'Rosko Raricim (0.839)\n",
            "\n",
            "Matrix Factorization recommendation for user 4bd88bfb25263a75bbdd467e74018f4ae570e5df because they like 'The Real Slim Shady - Eminem':\n",
            "0. 42 - Coldplay\n",
            "1. Air Force Ones - Nelly / David Banner / 8-Ball\n",
            "2. DONTTRUSTME (Explicit Album Version) - 3OH!3\n",
            "3. FU-GEE-LA - Fugees\n",
            "4. Hailie's Song - Eminem\n",
            "5. Hero (Album Version) - Skillet\n",
            "6. In The End (Album Version) - Linkin Park\n",
            "7. My Name Is - Eminem\n",
            "8. Rollin' (Air Raid Vehicle) - Limp Bizkit\n",
            "9. The Real Slim Shady - Eminem\n",
            "10. Yeah! - Usher Featuring Lil' Jon & Ludacris\n"
          ],
          "name": "stdout"
        }
      ]
    },
    {
      "cell_type": "markdown",
      "metadata": {
        "id": "t6XMcsJmMf7m",
        "colab_type": "text"
      },
      "source": [
        "We define two functions to calculate the precision and recall for our models."
      ]
    },
    {
      "cell_type": "code",
      "metadata": {
        "id": "u1m1VfGlMgyJ",
        "colab_type": "code",
        "colab": {}
      },
      "source": [
        "def calc_precision(predicted, actual):\n",
        "        prec = [value for value in predicted if value in actual]\n",
        "        prec = np.round(float(len(prec)) / float(len(predicted)), 4) #tp/tp+fp\n",
        "        return prec\n",
        "\n",
        "def calc_recall(predicted, actual):\n",
        "        reca = [value for value in predicted if value in actual]\n",
        "        reca = np.round(float(len(reca)) / float(len(actual)), 4) #tp/tp+fn\n",
        "        return reca"
      ],
      "execution_count": 0,
      "outputs": []
    },
    {
      "cell_type": "markdown",
      "metadata": {
        "id": "U1RDUyhDOBUi",
        "colab_type": "text"
      },
      "source": [
        "Calculate Precision and Recall for KNN"
      ]
    },
    {
      "cell_type": "code",
      "metadata": {
        "id": "BnwG6oIhOA5X",
        "colab_type": "code",
        "colab": {}
      },
      "source": [
        "knn_prec = calc_precision(knn_predicted, actual_songs)\n",
        "knn_rec = calc_recall(knn_predicted, actual_songs)\n"
      ],
      "execution_count": 0,
      "outputs": []
    },
    {
      "cell_type": "markdown",
      "metadata": {
        "id": "R8xy3tHfl6od",
        "colab_type": "text"
      },
      "source": [
        "Calculate Precision and Recall for Matrix Factorization"
      ]
    },
    {
      "cell_type": "code",
      "metadata": {
        "id": "EvwE1poK8tnQ",
        "colab_type": "code",
        "colab": {}
      },
      "source": [
        "maf_prec = calc_precision(matrix_fac_predicted, actual_songs)\n",
        "maf_rec = calc_recall(matrix_fac_predicted, actual_songs)\n"
      ],
      "execution_count": 0,
      "outputs": []
    },
    {
      "cell_type": "markdown",
      "metadata": {
        "id": "wcyd3pi2mlG9",
        "colab_type": "text"
      },
      "source": [
        "Compare Precision and Recall for Both Models"
      ]
    },
    {
      "cell_type": "code",
      "metadata": {
        "id": "EAS8BROROmTo",
        "colab_type": "code",
        "outputId": "59cf207a-055b-40f3-eb71-6443c8260ed4",
        "colab": {
          "base_uri": "https://localhost:8080/",
          "height": 87
        }
      },
      "source": [
        "if knn_prec > maf_prec:\n",
        "  print(\"knn has higher precision of {} compared to the precision of matrix factorization which is {}\".format(knn_prec,maf_prec))\n",
        "  print(\"------------------------------------------------------------------------------------\")\n",
        "else: \n",
        "  print(\"MAF has higher precision of {} compared to the precision of KNN which is {}\".format(maf_prec,knn_prec))\n",
        "  print(\"------------------------------------------------------------------------------------\")\n",
        "\n",
        "if knn_rec > maf_rec:\n",
        "  print(\"knn has higher recall of {} compared to the recall of matrix factorization which is {}\".format(knn_rec,maf_rec))\n",
        "  print(\"------------------------------------------------------------------------------------\")\n",
        "else: \n",
        "  print(\"MAF has higher precision of {} compared to the recall of KNN which is {}\".format(maf_rec, knn_rec))\n",
        "  print(\"------------------------------------------------------------------------------------\")\n"
      ],
      "execution_count": 0,
      "outputs": [
        {
          "output_type": "stream",
          "text": [
            "knn has higher precision of 0.3 compared to the precision of matrix factorization which is 0.0909\n",
            "------------------------------------------------------------------------------------\n",
            "knn has higher recall of 0.2727 compared to the recall of matrix factorization which is 0.0909\n",
            "------------------------------------------------------------------------------------\n"
          ],
          "name": "stdout"
        }
      ]
    },
    {
      "cell_type": "markdown",
      "metadata": {
        "id": "69WRyUnNm243",
        "colab_type": "text"
      },
      "source": [
        "# Conclusion\n",
        "\n",
        "After evaluating our models we can see that knn had a higher precision and recall compared to the Matrix Fatorization model. "
      ]
    },
    {
      "cell_type": "markdown",
      "metadata": {
        "id": "bVDgr3yKgmXq",
        "colab_type": "text"
      },
      "source": [
        "**Demo**"
      ]
    },
    {
      "cell_type": "code",
      "metadata": {
        "id": "x3Nu50xIgoJ8",
        "colab_type": "code",
        "outputId": "034ce488-97bc-45f6-f54b-9dec89f4290a",
        "colab": {
          "base_uri": "https://localhost:8080/",
          "height": 496
        }
      },
      "source": [
        "#randomly select a user from the dataset\n",
        "index = seed.choice(train_df.shape[0])\n",
        "uid = train_df.iloc[index]['user_id']\n",
        "#get songs userhas listened to\n",
        "user_songs= get_user_songs(uid)\n",
        "song_index = seed.choice(len(user_songs))\n",
        "print(\"User {} has listened to this song '{}' therefore they will like the following:\\n\".format(uid,user_songs[song_index]))\n",
        "#knn recommend similar songs\n",
        "knn_predicted = knn_recommend(uid, pivot_df,user_songs[song_index],knn,10)\n",
        "#Matrix factorization recommend similar songs\n",
        "matrix_fac_predicted = matrix_factorization_recommend(uid, user_songs[song_index])"
      ],
      "execution_count": 0,
      "outputs": [
        {
          "output_type": "stream",
          "text": [
            "User dbee9142dbbdce3980e1ced30831f83d0828e239 has listened to this song 'Secrets - OneRepublic' therefore they will like the following:\n",
            "\n",
            "KNN Song Recommendations for user dbee9142dbbdce3980e1ced30831f83d0828e239 cause they like 'Secrets - OneRepublic':\n",
            "\n",
            "1: Sehr kosmisch - Harmonia (0.692)\n",
            "2: Tonight - FM Static (0.714)\n",
            "3: Heartbreak Warfare - John Mayer (0.738)\n",
            "4: All The Right Moves - OneRepublic (0.739)\n",
            "5: Fireflies - Charttraxx Karaoke (0.741)\n",
            "6: Lucky (Album Version) - Jason Mraz & Colbie Caillat (0.759)\n",
            "7: Sunday - The Cranberries (0.762)\n",
            "8: If I Had You - Adam Lambert (0.767)\n",
            "9: Dog Days Are Over (Radio Edit) - Florence + The Machine (0.768)\n",
            "10: Hey_ Soul Sister - Train (0.768)\n",
            "\n",
            "Matrix Factorization recommendation for user dbee9142dbbdce3980e1ced30831f83d0828e239 because they like 'Secrets - OneRepublic':\n",
            "0. All The Right Moves - OneRepublic\n",
            "1. Dental Care - Owl City\n",
            "2. Fag Hag - Lily Allen\n",
            "3. Fear - OneRepublic\n",
            "4. Fireflies - Charttraxx Karaoke\n",
            "5. Lucky (Album Version) - Jason Mraz & Colbie Caillat\n",
            "6. Lullaby - OneRepublic\n",
            "7. Mona Lisa (When The World Comes Down) - The All-American Rejects\n",
            "8. Secrets - OneRepublic\n",
            "9. Sunshine - The All-American Rejects\n",
            "10. U Smile - Justin Bieber\n"
          ],
          "name": "stdout"
        }
      ]
    }
  ]
}